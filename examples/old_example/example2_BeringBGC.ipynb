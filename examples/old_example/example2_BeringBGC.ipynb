{
 "cells": [
  {
   "cell_type": "markdown",
   "metadata": {},
   "source": [
    "# Annotated example of a Bering Sea optional-bio run\n",
    "\n",
    "This example annotates one of my own real run scripts, and is targeted at members of my own research group running the Alaska region multi-BGC version of ROMS that I am working with.  It may also be useful to others to see a more complex run setup.\n",
    "\n",
    "This script is designed to run hindcast simulations for any of 4 different Bering Sea model variants: physics-only, or with the BEST_NPZ, BIO_BANAS, or BIO_COBALT biogeochemical models.  It is also designed to run on the mox checkpoint queue if needed; this means that if the script is cancelled externally by the job scheduler, it can resume simulation without any extra modifications.\n",
    "\n",
    "Note that there are a few hard-coded paths below that will need to be adjusted to reflect your own local setup.  These are marked with \"TODO: Change for your setup!\"\n",
    "\n",
    "## Setup\n",
    "\n",
    "We begin with some setup details before we get into the romscom-specific stuff.\n",
    "\n",
    "As in most python scripts, we begin with some package imports:"
   ]
  },
  {
   "cell_type": "code",
   "execution_count": 1,
   "metadata": {},
   "outputs": [],
   "source": [
    "import os\n",
    "import sys\n",
    "import argparse\n",
    "from datetime import datetime, timedelta\n",
    "\n",
    "import romscom.romscom as rc"
   ]
  },
  {
   "cell_type": "markdown",
   "metadata": {},
   "source": [
    "This script was written to accept a few command-line inputs, allowing it to be tested in \"dry run\" mode (where it sets up all the input but doesn't actually call the ROMS executble) and to switch which biological model variant is being run.  For this example, we'll hard-wire the physics-only model with dry run on."
   ]
  },
  {
   "cell_type": "code",
   "execution_count": 2,
   "metadata": {},
   "outputs": [],
   "source": [
    "sys.argv = ['', '--dryrun', '--bio', 'phys'] # <- This line added for notebook only\n",
    "\n",
    "# Parse input\n",
    "\n",
    "ap = argparse.ArgumentParser()\n",
    "ap.add_argument(\"--bio\", nargs=\"+\", choices=[\"bestnpz\", \"cobalt\", \"banas\", \"phys\"], default=[\"bestnpz\", \"cobalt\", \"banas\", \"phys\"])\n",
    "ap.add_argument(\"-d\", \"--dryrun\", action=\"store_true\")\n",
    "args = ap.parse_args()"
   ]
  },
  {
   "cell_type": "markdown",
   "metadata": {},
   "source": [
    "Next, we add some setup variables related to the various configurations we may run, including the ROMS CPP flag associated with each option, the executable to be used for each, and our local mpirun command."
   ]
  },
  {
   "cell_type": "code",
   "execution_count": 3,
   "metadata": {},
   "outputs": [],
   "source": [
    "biocpp   = {\"bestnpz\": \"BEST_NPZ\", \n",
    "            \"cobalt\":  \"BIO_COBALT\", \n",
    "            \"banas\":   \"BIO_BANAS\", \n",
    "            \"phys\":    \"\"}\n",
    "          \n",
    "romsexec = {\"bestnpz\": \"./romsM_bestnpz_202303150939\",\n",
    "            \"cobalt\":   \"./romsM_cobalt_202303150949\",\n",
    "            \"banas\":     \"./romsM_banas_202303151001\",\n",
    "            \"phys\":       \"./romsM_phys_202303150930\"}\n",
    "\n",
    "mpiexec = \"mpirun\"\n"
   ]
  },
  {
   "cell_type": "markdown",
   "metadata": {},
   "source": [
    "The simulations will start on Jan 15, 1990 (the first date in the boundary condition files) and run through Jan 1, 2020.\n"
   ]
  },
  {
   "cell_type": "code",
   "execution_count": 4,
   "metadata": {},
   "outputs": [],
   "source": [
    "maxdate = datetime(2020,1,1)\n",
    "dstart = datetime(1990,1,15,0,0)"
   ]
  },
  {
   "cell_type": "markdown",
   "metadata": {},
   "source": [
    "## Setting up input parameters\n",
    "\n",
    "This next section does most of the input parameter setup.  We start by importing all the default values from our ROMS Application Data folder.  The values are saved in dictionaries that now act as stand-ins for their .in file counterparts."
   ]
  },
  {
   "cell_type": "code",
   "execution_count": 5,
   "metadata": {},
   "outputs": [
    {
     "name": "stdout",
     "output_type": "stream",
     "text": [
      "phys\n"
     ]
    }
   ],
   "source": [
    "# Defaults\n",
    "\n",
    "appfol = \"/Users/kakearney/Documents/Research/Working/ReposCode/roms/bering-Apps/Apps/Bering_BGC_variants\" # <- TODO: Change for your setup!\n",
    "\n",
    "ocean   = rc.readparamfile(os.path.join(appfol, \"bering_ocean.yaml\"), tconvert=True)\n",
    "station = rc.readparamfile(os.path.join(appfol, \"bering_spos.yaml\"))\n",
    "ice     = rc.readparamfile(os.path.join(appfol, \"bering_ipar.yaml\"))\n",
    "\n",
    "bio = {};\n",
    "for btmp in args.bio:\n",
    "    print(btmp)\n",
    "    if btmp != \"phys\":\n",
    "        bio[btmp] = rc.readparamfile(os.path.join(appfol, f\"bering_bpar_{btmp}.yaml\"))"
   ]
  },
  {
   "cell_type": "markdown",
   "metadata": {},
   "source": [
    "With the defaults in place, we can then begin making adjustments that are specific to this particular experiment.  In this script, I turned on some comparable diagnostics for the bio models."
   ]
  },
  {
   "cell_type": "code",
   "execution_count": 6,
   "metadata": {},
   "outputs": [],
   "source": [
    "# Turn on appropriate diagnostics:\n",
    "\n",
    "if \"banas\" in args.bio:\n",
    "    for k in bio[\"banas\"]['Dout']: \n",
    "        bio[\"banas\"]['Dout'][k] = True # BIO_BANAS: turn on all diagnostics\n",
    "        \n",
    "if \"bestnpz\" in args.bio:\n",
    "    bio[\"bestnpz\"][\"Dout\"][\"iprod_PhS\"]        = True\n",
    "    bio[\"bestnpz\"][\"Dout\"][\"iprod_PhL\"]        = True\n",
    "    bio[\"bestnpz\"][\"Dout\"][\"iprod_MZL\"]        = True\n",
    "    bio[\"bestnpz\"][\"Dout\"][\"iprod_Cop\"]        = True\n",
    "    bio[\"bestnpz\"][\"Dout\"][\"iprod_NCaS\"]       = True\n",
    "    bio[\"bestnpz\"][\"Dout\"][\"iprod_EupS\"]       = True\n",
    "    bio[\"bestnpz\"][\"Dout\"][\"iprod_NCaO\"]       = True\n",
    "    bio[\"bestnpz\"][\"Dout\"][\"iprod_EupO\"]       = True\n",
    "    bio[\"bestnpz\"][\"Dout\"][\"iprod_Jel\"]        = True\n",
    "    bio[\"bestnpz\"][\"Dout\"][\"iprod_Ben\"]        = True\n",
    "    bio[\"bestnpz\"][\"Dout\"][\"iprod_IcePhL\"]     = True\n",
    "    bio[\"bestnpz\"][\"Dout\"][\"ipar\"]             = True\n",
    "    bio[\"bestnpz\"][\"Dout\"][\"inolims\"]          = True\n",
    "    bio[\"bestnpz\"][\"Dout\"][\"inoliml\"]          = True\n",
    "    bio[\"bestnpz\"][\"Dout\"][\"inhlims\"]          = True\n",
    "    bio[\"bestnpz\"][\"Dout\"][\"inhliml\"]          = True\n",
    "\n",
    "if \"cobalt\" in args.bio:\n",
    "    bio[\"cobalt\"][\"Dout\"][\"inpp_sm\"]   = True\n",
    "    bio[\"cobalt\"][\"Dout\"][\"inpp_md\"]   = True\n",
    "    bio[\"cobalt\"][\"Dout\"][\"inpp_lg\"]   = True\n",
    "    bio[\"cobalt\"][\"Dout\"][\"inpp_di\"]   = True\n",
    "    bio[\"cobalt\"][\"Dout\"][\"ifratio\"]   = True\n",
    "    bio[\"cobalt\"][\"Dout\"][\"iprod_smz\"] = True\n",
    "    bio[\"cobalt\"][\"Dout\"][\"iprod_mdz\"] = True\n",
    "    bio[\"cobalt\"][\"Dout\"][\"iprod_lgz\"] = True\n",
    "    bio[\"cobalt\"][\"Dout\"][\"iironsed_flx\"] = True\n",
    "    bio[\"cobalt\"][\"Dout\"][\"indet_btf\"]    = True\n",
    "    bio[\"cobalt\"][\"Dout\"][\"io2_btf\"]      = True"
   ]
  },
  {
   "cell_type": "markdown",
   "metadata": {},
   "source": [
    "Then I altered many of the archiving time step variables.  I can just set those based on time intervals, and don't need to worry about converting to number of ROMS time steps."
   ]
  },
  {
   "cell_type": "code",
   "execution_count": 7,
   "metadata": {},
   "outputs": [],
   "source": [
    "# Time variables \n",
    "\n",
    "ocean['DSTART'] = dstart\n",
    "\n",
    "# Set archiving time steps and file size\n",
    "\n",
    "ocean['NRST'] = timedelta(days=4)\n",
    "ocean['NSTA'] = timedelta(days=1)\n",
    "ocean['NAVG'] = timedelta(days=4)\n",
    "ocean['NHIS'] = timedelta(days=4)\n",
    "ocean['NDIA'] = timedelta(days=4)\n",
    "ocean['NDEFAVG'] = timedelta(days=40)\n",
    "ocean['NDEFHIS'] = timedelta(days=40)\n",
    "ocean['NDEFDIA'] = timedelta(days=40)"
   ]
  },
  {
   "cell_type": "markdown",
   "metadata": {},
   "source": [
    "Most of the default input file paths are just placeholders, so we'll replace those with the real file paths.  We start with a few that are shared across all the bio variants:"
   ]
  },
  {
   "cell_type": "code",
   "execution_count": 8,
   "metadata": {},
   "outputs": [],
   "source": [
    "# Change a few input files to reflect data folder location\n",
    "\n",
    "datafol = \"/Users/kakearney/Documents/Research/Working/mox_bumblereem/ROMS_Datasets\" # <- TODO: Change for your setup!\n",
    "\n",
    "ocean[\"GRDNAME\"]  = f\"{datafol}/grids/AlaskaGrids_Bering10K.nc\"\n",
    "ocean[\"TIDENAME\"] = f\"{datafol}/OTPS/tides_OTPS_Bering10K.nc\"\n",
    "ocean[\"NUDNAME\"]  = f\"{datafol}/initial/nudgingcoeff_Bering10K.nc\""
   ]
  },
  {
   "cell_type": "markdown",
   "metadata": {},
   "source": [
    "## Running with runtodate()\n",
    "\n",
    "This next section preps the simulation to be run using the romscom runtodate() function, run in 10-year blocks.  The 10-year thing is mainly a workaround for a ROMS input file limitation that I discovered the hard way.  \n",
    "\n",
    "The runtodate() provides a wrapper to set up a ROMS simulation and run through the desired date, allowing for robust restarts when necessary. It organizes ROMS I/O under a 3-folder system under the user-specified simdir folder. Before calling the ROMS executable, it looks for an appropriately-named restart file under the Out subfolder. If found, it uses this restart file to initialize a run with NRREC=-1; otherwise, it will use the user-provided ININAME and NRREC values. It also adjusts the NTIMES field to reach the requested end date.\n",
    "               \n",
    "This procedure allows a simulation to be restarted using the same command regardless of whether it has been partially completed or not; this can be useful when running simulations on computer clusters where jobs may be cancelled and resubmitted for various queue management reasons, or to extend existing simulations with new forcing.\n",
    "\n",
    "This function also provides the option to work through ROMS blowups. These occur when physical conditions lead to numeric instabilities. Blowups can sometimes be mitigated by reducing the model time step. When the runpastblowup option is True and runtodate encounters a blowup, it will adjust the DT parameter to the user-provided slow time step, restart the simulation from the last history file, and run for 30 days.  It will then return to the original time step and resume. Note that this time step reduction will only be attempted once; if the model still blows up, the simulation will exit and the user will need to troubleshoot the situation.\n",
    "\n",
    "Each time the model is restarted, output file counters are incremented as specified by the addcounter option.  This preserves output that would otherwise be overwritten on restart with the same simulation name.  By default, the counter is only added to file types that modern ROMS does not check for on restart."
   ]
  },
  {
   "cell_type": "code",
   "execution_count": 9,
   "metadata": {},
   "outputs": [
    {
     "name": "stdout",
     "output_type": "stream",
     "text": [
      "Preparing phys simulation...\n",
      "Running ROMS simulation\n",
      "  Counter block:   1\n",
      "  Start date:      1990-01-15 00:00:00\n",
      "  End date:        2000-01-01 00:00:00\n",
      "  ROMS command:    mpirun ./romsM_phys_202303150930\n",
      "  Standard input:  bgcmip_phys/In/bgcmip_phys_01_ocean.in\n",
      "  Standard output: bgcmip_phys/Log/bgcmip_phys_01_log.txt\n",
      "  Standard error:  bgcmip_phys/Log/bgcmip_phys_01_err.txt\n",
      "Dry run\n"
     ]
    }
   ],
   "source": [
    "# Adjust input based on years to run \n",
    "# (template file only holds a few years worth)\n",
    "# Note: Ideally we'd just run the whole thing at once.  But ROMS does *not* like\n",
    "# it when you supply more than ~100 forcing multi-files (there's nothing in the\n",
    "# documentation about this... but somewhere under the hood a variable must be\n",
    "# allocated to only hold a limited number of characters, and if you surpass that\n",
    "# things go sideways in a messy-crash-with-very-unhelpful-errors sort of way!\n",
    "# So, to accomodate, we run in blocks).\n",
    "\n",
    "blocksz = 10 # years per call, to keep file numbers under the ROMS limit\n",
    "\n",
    "for bioname in args.bio:\n",
    "    \n",
    "    print(f\"Preparing {bioname} simulation...\")\n",
    "    \n",
    "    # Start with time-invariant inputs\n",
    "    \n",
    "    pflag = bioname == \"phys\"\n",
    "\n",
    "    simdir = f\"bgcmip_{bioname}\"\n",
    "    simname = f\"bgcmip_{bioname}\"\n",
    "\n",
    "    # Set up sim folders\n",
    "\n",
    "    fol = rc.simfolders(simdir, create=True)\n",
    "\n",
    "    # Write accessory files\n",
    "\n",
    "    bpar = os.path.join(fol['in'], f\"{simname}_bpar.in\") # bio\n",
    "    ipar = os.path.join(fol['in'], f\"{simname}_ipar.in\") # ice\n",
    "    spos = os.path.join(fol['in'], f\"{simname}_spos.in\") # stations\n",
    "\n",
    "    if not pflag:\n",
    "        rc.dict2standardin(bio[bioname], compress=False, file=bpar)\n",
    "    rc.dict2standardin(ice, compress=False, file=ipar)\n",
    "    rc.dict2standardin(station, compress=False, file=spos)\n",
    "\n",
    "    if pflag:\n",
    "        ocean['BPARNAM'] = \"placeholder.in\"\n",
    "    else:\n",
    "        ocean['BPARNAM'] = bpar\n",
    "        \n",
    "    ocean['IPARNAM'] = ipar\n",
    "    ocean['SPOSNAM'] = spos\n",
    "\n",
    "    # Point to correct initialization and varinfo files\n",
    "\n",
    "    if pflag:\n",
    "        ocean['ININAME'] = os.path.join(datafol, 'initial', 'ini_hindcast_unnested_Bering10K_BEST_NPZ.nc')\n",
    "        ocean[\"CLMNAME\"] = os.path.join(datafol, 'initial', 'ini_hindcast_unnested_Bering10K_BEST_NPZ.nc')\n",
    "    else:\n",
    "        ocean['ININAME'] = os.path.join(datafol, 'initial', f\"ini_hindcast_unnested_Bering10K_{biocpp[bioname]}.nc\")\n",
    "        ocean[\"CLMNAME\"] = os.path.join(datafol, 'initial', f\"ini_hindcast_unnested_Bering10K_{biocpp[bioname]}.nc\")\n",
    "\n",
    "    if pflag:\n",
    "        ocean['VARNAME'] = os.path.join(appfol, f\"varinfo_{bioname}.dat\")\n",
    "    else:\n",
    "        ocean['VARNAME'] = os.path.join(appfol, f\"varinfo_{bioname}_scaledbry.dat\")\n",
    "    \n",
    "    # Break simulation into blocks to avoid the (undocumented) limit on ROMS \n",
    "    # input multi-file number.\n",
    "    \n",
    "    for yr1 in range(dstart.year,maxdate.year,blocksz):\n",
    "        \n",
    "        endblock = min(maxdate, datetime(yr1+blocksz,1,1))\n",
    "        yrs = range(max(yr1-1,dstart.year), min(endblock.year+2, maxdate.year+1)) # Adds a little overlap for restarting from one block to the next\n",
    "        \n",
    "        ocean[\"FRCNAME\"] = [f\"{datafol}/BarrowCO2/atmo_co2_barrow_1970_2020.nc\", \n",
    "                            f\"{datafol}/Iron/ESM4_Bering10K_iron_dust_clim.nc\",\n",
    "                            f\"{datafol}/salinity/sss.clim.nc\",\n",
    "                            [f\"{datafol}/CFS/{x}/CFS-atmos-northPacific-Pair-{x}.nc\" for x in yrs],\n",
    "                            [f\"{datafol}/CFS/{x}/CFS-atmos-northPacific-Qair-{x}.nc\" for x in yrs],\n",
    "                            [f\"{datafol}/CFS/{x}/CFS-atmos-northPacific-Tair-{x}.nc\" for x in yrs],\n",
    "                            [f\"{datafol}/CFS/{x}/CFS-atmos-northPacific-Uwind-{x}.nc\" for x in yrs],\n",
    "                            [f\"{datafol}/CFS/{x}/CFS-atmos-northPacific-Vwind-{x}.nc\" for x in yrs],\n",
    "                            [f\"{datafol}/CFS/{x}/CFS-atmos-northPacific-rain-{x}.nc\" for x in yrs],\n",
    "                            [f\"{datafol}/CFS/{x}/CFS-atmos-northPacific-swrad-{x}.nc\" for x in yrs],\n",
    "                            [f\"{datafol}/CFS/{x}/CFS-atmos-northPacific-lwrad-{x}.nc\" for x in yrs],\n",
    "                            [f\"{datafol}/GloFAS/GloFAS_runoff_Bering10K_{x}.nc\" for x in yrs],\n",
    "                            [f\"{datafol}/GloFAS/GloFAS-based_nutrientflux_Bering10K_{x}.nc\" for x in yrs]\n",
    "                           ]\n",
    "        ocean[\"NFFILES\"] = len(ocean[\"FRCNAME\"])\n",
    "\n",
    "        ocean[\"BRYNAME\"] = [f\"{datafol}/WOA2018/WOA2018_Bering10K_N30_brybgc.nc\",\n",
    "                            [f\"{datafol}/CFS/{x}/CFS-ocean-Bering10K-N30-bryocn-{x}.nc\" for x in yrs],\n",
    "                            [f\"{datafol}/CFS/{x}/CFS-ocean-ESPER-Bering10K-N30-brycarbon-{x}.nc\"  for x in yrs]\n",
    "                           ]\n",
    "        ocean[\"NBCFILES\"] = len(ocean[\"BRYNAME\"])\n",
    "\n",
    "        # ocean['NTIMES'] = min(maxdate, datetime(yr1+blocksz,1,1)) - ocean['DSTART']\n",
    "\n",
    "        # Reset restart/initialize marker, in case changed by one of the other bio \n",
    "        # sims (runtodate will adjust as necessary)\n",
    "    \n",
    "        ocean['NRREC'] = 0\n",
    "    \n",
    "        # Run\n",
    "    \n",
    "        romscmd = [mpiexec, romsexec[bioname]]\n",
    "    \n",
    "        status = rc.runtodate(ocean, simdir, simname, enddate=endblock, romscmd=romscmd, \n",
    "                     dryrunflag=args.dryrun)\n",
    "                     \n",
    "        if status != \"success\":\n",
    "            break"
   ]
  },
  {
   "cell_type": "markdown",
   "metadata": {},
   "source": [
    "In dry run mode, the script creates the requested input files, then reports details of the simulation it is ready to run.  If we were to run this script with the dry run off, it would proceed to actually call ROMS, complete the first 10-year block, then move on to the next one, with output added to the Out folder and standard error and output going to the Log folder.  Once the simulation reaches its end, you will have the full set of input files, log files, and output files available for your records in the specified folder."
   ]
  }
 ],
 "metadata": {
  "kernelspec": {
   "display_name": "Python 3",
   "language": "python",
   "name": "python3"
  },
  "language_info": {
   "codemirror_mode": {
    "name": "ipython",
    "version": 3
   },
   "file_extension": ".py",
   "mimetype": "text/x-python",
   "name": "python",
   "nbconvert_exporter": "python",
   "pygments_lexer": "ipython3",
   "version": "3.6.10"
  }
 },
 "nbformat": 4,
 "nbformat_minor": 2
}
