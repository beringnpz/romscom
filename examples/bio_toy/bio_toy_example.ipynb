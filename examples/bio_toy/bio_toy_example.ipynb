{
 "cells": [
  {
   "attachments": {},
   "cell_type": "markdown",
   "metadata": {},
   "source": [
    "# romscom example: a bio_toy sensitivity study\n",
    "\n",
    "This example provides a simple demonstration of the ROMS Communication Toolbox, applied to the ROMS `bio_toy` test case.  \n",
    "\n",
    "The original test case can be found in [ROMS Test Cases repository](https://github.com/myroms/roms_test).  It provides a simple one-dimensional (vertical) ocean environment that is ideal for testing biological models.  It also comes with input files to compile and run all the standard biological models that ship with the [myroms.org version of ROMS](https://github.com/myroms/roms).  This example will focus on the NPZD variants.  \n",
    "\n",
    "This example focuses on demonstrating the toolbox, and as such never actively calls ROMS.  Therefore, this example should run cleanly without the need to fully set up and configure the `bio_toy` configurations. "
   ]
  },
  {
   "attachments": {},
   "cell_type": "markdown",
   "metadata": {},
   "source": [
    "## Setup: modules imports\n",
    "\n",
    "We begin this example with a few module imports, including importing our primary romscom module using an `rc` abbreviation."
   ]
  },
  {
   "cell_type": "code",
   "execution_count": 1,
   "metadata": {},
   "outputs": [],
   "source": [
    "# Module imports\n",
    "\n",
    "import os\n",
    "from datetime import datetime, timedelta\n",
    "import romscom.romscom as rc"
   ]
  },
  {
   "attachments": {},
   "cell_type": "markdown",
   "metadata": {},
   "source": [
    "## Setup: Import default parameters\n",
    "\n",
    "We start by importing the model parameters, including physical ocean model parameters as well as additional biological parameters for the three models we will focus on: NPZD_FRANKS, NPZD_IRON, and NPZD_POWELL."
   ]
  },
  {
   "cell_type": "code",
   "execution_count": 2,
   "metadata": {},
   "outputs": [],
   "source": [
    "# Ocean parameters\n",
    "\n",
    "ocean = rc.readparamfile(\"roms_bio_toy_npzd.yaml\", tconvert=True)\n",
    "\n",
    "# Bio parameters\n",
    "\n",
    "bioname = [\"Franks\", \"iron\", \"Powell\"]\n",
    "\n",
    "bio = [rc.readparamfile(f\"npzd_{x}.yaml\") for x in bioname]"
   ]
  },
  {
   "attachments": {},
   "cell_type": "markdown",
   "metadata": {},
   "source": [
    "Note that we set the `tconvert` flag on the ocean parameters to `True`, which tells the reader to convert all time-related fields to datetimes and timedeltas.  For example, the `NTIMES` parameter is set to 1600 the original file.  The convertion combines this with the `DT` parameter to figure out the duration of the desired simulation."
   ]
  },
  {
   "cell_type": "code",
   "execution_count": 3,
   "metadata": {},
   "outputs": [
    {
     "data": {
      "text/plain": [
       "datetime.timedelta(seconds=540)"
      ]
     },
     "execution_count": 3,
     "metadata": {},
     "output_type": "execute_result"
    }
   ],
   "source": [
    "ocean['DT']"
   ]
  },
  {
   "cell_type": "code",
   "execution_count": 4,
   "metadata": {},
   "outputs": [
    {
     "data": {
      "text/plain": [
       "datetime.timedelta(days=10)"
      ]
     },
     "execution_count": 4,
     "metadata": {},
     "output_type": "execute_result"
    }
   ],
   "source": [
    "ocean['NTIMES']"
   ]
  },
  {
   "attachments": {},
   "cell_type": "markdown",
   "metadata": {},
   "source": [
    "If we wanted to change the time step `DT`, we could do so without needing to recalculate any of the parameters that rely on it; those will be automatically updated when we convert the format later.\n",
    "\n",
    "In this example, we're going to use the `runtodate` function, which means we don't need to manually set either of these variables.  "
   ]
  },
  {
   "attachments": {},
   "cell_type": "markdown",
   "metadata": {},
   "source": [
    "## The experiment\n",
    "\n",
    "We can now set up our toy experiment.  Here, we'll run a simple sensitivity study to run the three models with varying initial nitrate concentrations (i.e, `BioIni(iNO3_)`, a parameter shared by all three models.)\n",
    "\n",
    "These simulations will rely on the data files found in the `roms_test/biotoy/Data` folder from the [ROMS Test Cases repository](https://github.com/myroms/roms_test).  Update the following path to reflect your own copy of this data."
   ]
  },
  {
   "cell_type": "code",
   "execution_count": 5,
   "metadata": {},
   "outputs": [],
   "source": [
    "# Local path to data directory\n",
    "\n",
    "biotoy_dir = \"/Users/kelly.kearney/Documents/Repos/ESMs/roms_test/bio_toy\"\n",
    "\n",
    "# Modify relevant input file names to reflect full path\n",
    "\n",
    "ocean['GRDNAME'] = os.path.join(biotoy_dir, \"Data\", \"bio_toy_grd.nc\")\n",
    "ocean['ININAME'] = os.path.join(biotoy_dir, \"Data\", \"bio_toy_ini_npzd.nc\")\n",
    "ocean['FRCNAME'] = os.path.join(biotoy_dir, \"Data\", \"bio_toy_frc.nc\")\n"
   ]
  },
  {
   "attachments": {},
   "cell_type": "markdown",
   "metadata": {},
   "source": [
    "From here, we can set up the main experiments.  The code below loops over each of our biological model/initial nitrate combinations."
   ]
  },
  {
   "cell_type": "code",
   "execution_count": 7,
   "metadata": {},
   "outputs": [
    {
     "name": "stdout",
     "output_type": "stream",
     "text": [
      "Running ROMS simulation\n",
      "  Counter block:   1\n",
      "  Start date:      2001-01-01 12:00:00\n",
      "  End date:        2002-01-01 00:00:00\n",
      "  ROMS command:    mpirun romsM\n",
      "  Standard input:  ./In/npzd_Franks1_01_ocean.in\n",
      "  Standard output: ./Log/npzd_Franks1_01_log.txt\n",
      "  Standard error:  ./Log/npzd_Franks1_01_err.txt\n",
      "Dry run\n",
      "Running ROMS simulation\n",
      "  Counter block:   1\n",
      "  Start date:      2001-01-01 12:00:00\n",
      "  End date:        2002-01-01 00:00:00\n",
      "  ROMS command:    mpirun romsM\n",
      "  Standard input:  ./In/npzd_Franks2_01_ocean.in\n",
      "  Standard output: ./Log/npzd_Franks2_01_log.txt\n",
      "  Standard error:  ./Log/npzd_Franks2_01_err.txt\n",
      "Dry run\n",
      "Running ROMS simulation\n",
      "  Counter block:   1\n",
      "  Start date:      2001-01-01 12:00:00\n",
      "  End date:        2002-01-01 00:00:00\n",
      "  ROMS command:    mpirun romsM\n",
      "  Standard input:  ./In/npzd_Franks3_01_ocean.in\n",
      "  Standard output: ./Log/npzd_Franks3_01_log.txt\n",
      "  Standard error:  ./Log/npzd_Franks3_01_err.txt\n",
      "Dry run\n",
      "Running ROMS simulation\n",
      "  Counter block:   1\n",
      "  Start date:      2001-01-01 12:00:00\n",
      "  End date:        2002-01-01 00:00:00\n",
      "  ROMS command:    mpirun romsM\n",
      "  Standard input:  ./In/npzd_iron1_01_ocean.in\n",
      "  Standard output: ./Log/npzd_iron1_01_log.txt\n",
      "  Standard error:  ./Log/npzd_iron1_01_err.txt\n",
      "Dry run\n",
      "Running ROMS simulation\n",
      "  Counter block:   1\n",
      "  Start date:      2001-01-01 12:00:00\n",
      "  End date:        2002-01-01 00:00:00\n",
      "  ROMS command:    mpirun romsM\n",
      "  Standard input:  ./In/npzd_iron2_01_ocean.in\n",
      "  Standard output: ./Log/npzd_iron2_01_log.txt\n",
      "  Standard error:  ./Log/npzd_iron2_01_err.txt\n",
      "Dry run\n",
      "Running ROMS simulation\n",
      "  Counter block:   1\n",
      "  Start date:      2001-01-01 12:00:00\n",
      "  End date:        2002-01-01 00:00:00\n",
      "  ROMS command:    mpirun romsM\n",
      "  Standard input:  ./In/npzd_iron3_01_ocean.in\n",
      "  Standard output: ./Log/npzd_iron3_01_log.txt\n",
      "  Standard error:  ./Log/npzd_iron3_01_err.txt\n",
      "Dry run\n",
      "Running ROMS simulation\n",
      "  Counter block:   1\n",
      "  Start date:      2001-01-01 12:00:00\n",
      "  End date:        2002-01-01 00:00:00\n",
      "  ROMS command:    mpirun romsM\n",
      "  Standard input:  ./In/npzd_Powell1_01_ocean.in\n",
      "  Standard output: ./Log/npzd_Powell1_01_log.txt\n",
      "  Standard error:  ./Log/npzd_Powell1_01_err.txt\n",
      "Dry run\n",
      "Running ROMS simulation\n",
      "  Counter block:   1\n",
      "  Start date:      2001-01-01 12:00:00\n",
      "  End date:        2002-01-01 00:00:00\n",
      "  ROMS command:    mpirun romsM\n",
      "  Standard input:  ./In/npzd_Powell2_01_ocean.in\n",
      "  Standard output: ./Log/npzd_Powell2_01_log.txt\n",
      "  Standard error:  ./Log/npzd_Powell2_01_err.txt\n",
      "Dry run\n",
      "Running ROMS simulation\n",
      "  Counter block:   1\n",
      "  Start date:      2001-01-01 12:00:00\n",
      "  End date:        2002-01-01 00:00:00\n",
      "  ROMS command:    mpirun romsM\n",
      "  Standard input:  ./In/npzd_Powell3_01_ocean.in\n",
      "  Standard output: ./Log/npzd_Powell3_01_log.txt\n",
      "  Standard error:  ./Log/npzd_Powell3_01_err.txt\n",
      "Dry run\n"
     ]
    },
    {
     "name": "stderr",
     "output_type": "stream",
     "text": [
      "/Users/kelly.kearney/Documents/Repos/PythonModules/romscom/src/romscom/rcutils.py:346: UserWarning: Cannot find file /dev/null\n",
      "  warnings.warn(f\"Cannot find file {f}\")\n",
      "/Users/kelly.kearney/Documents/Repos/PythonModules/romscom/src/romscom/rcutils.py:346: UserWarning: Cannot find file bio_toy_clm.nc\n",
      "  warnings.warn(f\"Cannot find file {f}\")\n",
      "/Users/kelly.kearney/Documents/Repos/PythonModules/romscom/src/romscom/rcutils.py:346: UserWarning: Cannot find file bio_toy_nud.nc\n",
      "  warnings.warn(f\"Cannot find file {f}\")\n",
      "/Users/kelly.kearney/Documents/Repos/PythonModules/romscom/src/romscom/rcutils.py:346: UserWarning: Cannot find file bio_toy_rivers.nc\n",
      "  warnings.warn(f\"Cannot find file {f}\")\n",
      "/Users/kelly.kearney/Documents/Repos/PythonModules/romscom/src/romscom/rcutils.py:346: UserWarning: Cannot find file bio_toy_tides.nc\n",
      "  warnings.warn(f\"Cannot find file {f}\")\n",
      "/Users/kelly.kearney/Documents/Repos/PythonModules/romscom/src/romscom/rcutils.py:346: UserWarning: Cannot find file s4dvar.in\n",
      "  warnings.warn(f\"Cannot find file {f}\")\n",
      "/Users/kelly.kearney/Documents/Repos/PythonModules/romscom/src/romscom/rcutils.py:346: UserWarning: Cannot find file stations.in\n",
      "  warnings.warn(f\"Cannot find file {f}\")\n",
      "/Users/kelly.kearney/Documents/Repos/PythonModules/romscom/src/romscom/rcutils.py:346: UserWarning: Cannot find file floats.in\n",
      "  warnings.warn(f\"Cannot find file {f}\")\n",
      "/Users/kelly.kearney/Documents/Repos/PythonModules/romscom/src/romscom/rcutils.py:346: UserWarning: Cannot find file sediment.in\n",
      "  warnings.warn(f\"Cannot find file {f}\")\n",
      "/Users/kelly.kearney/Documents/Repos/PythonModules/romscom/src/romscom/rcutils.py:346: UserWarning: Cannot find file MyFile.dat\n",
      "  warnings.warn(f\"Cannot find file {f}\")\n"
     ]
    }
   ],
   "source": [
    "# Initial nitrate values\n",
    "\n",
    "no3 = [1, 10, 20]\n",
    "\n",
    "# One set of output folders for all runs\n",
    "# You could alternatively create a separate subfolder for each, but\n",
    "# I'm keeping it simple for this example\n",
    "\n",
    "simfol = rc.simfolders(\".\", create=True)  \n",
    "\n",
    "# Loop over sensitivity simulations...\n",
    "\n",
    "for ii in range(0,len(bioname)):\n",
    "    for ino3 in range(0,len(no3)):\n",
    "\n",
    "        sname = f\"npzd_{bioname[ii]}{ino3+1}\"\n",
    "\n",
    "        # Create the new BPARNAM file with the correct initial nitrate, and\n",
    "        # place it in the new input subfolder\n",
    "\n",
    "        ocean['BPARNAM'] = os.path.join(simfol['in'], f\"{sname}_bpar.in\")\n",
    "        bio[ii]['BioIni']['iNO3_'] = no3[ii]\n",
    "        rc.dict2standardin(bio[ii], file=ocean['BPARNAM'])\n",
    "    \n",
    "        # Run simulations\n",
    "\n",
    "        rc.runtodate(ocean, \".\", sname, datetime(2002,1,1), dryrunflag=True)"
   ]
  }
 ],
 "metadata": {
  "kernelspec": {
   "display_name": "romscom_dev",
   "language": "python",
   "name": "python3"
  },
  "language_info": {
   "codemirror_mode": {
    "name": "ipython",
    "version": 3
   },
   "file_extension": ".py",
   "mimetype": "text/x-python",
   "name": "python",
   "nbconvert_exporter": "python",
   "pygments_lexer": "ipython3",
   "version": "3.13.2"
  },
  "orig_nbformat": 4
 },
 "nbformat": 4,
 "nbformat_minor": 2
}
