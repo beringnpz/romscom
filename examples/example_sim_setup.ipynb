{
 "cells": [
  {
   "cell_type": "markdown",
   "metadata": {},
   "source": [
    "# Simulation setup example\n",
    "\n",
    "This example shows how I use the romscom utilities to simplify input parameter setup and run ROMS simulations.  This script runs the hindcast for the Bering10K domain with the Banas model."
   ]
  },
  {
   "cell_type": "code",
   "execution_count": 2,
   "metadata": {},
   "outputs": [],
   "source": [
    "import os\n",
    "import sys\n",
    "from datetime import datetime, timedelta\n",
    "import romscom.romscom as rc"
   ]
  },
  {
   "cell_type": "markdown",
   "metadata": {},
   "source": [
    "## Baseline parameters\n",
    "\n",
    "The baseline input parameters are held in a series of YAML files.  These can be considered the starting point for our ROMS application.  From here, we can make adjustments that are simulation-specific.\n",
    "\n",
    "For this example, I am using input parameter files for the \"Bering10K biogeochemical variants app\".  The YAML files associated with this ROMS Application can be found on GitHub under the [beringnpz-beringApps](https://github.com/beringnpz/bering-Apps) project.  The  forcing/boundary/etc. files associated with the App are not currently publicly available, meaning that users will need to substit\n",
    "\n",
    "We start by reading these values into dictionaries."
   ]
  },
  {
   "cell_type": "code",
   "execution_count": 3,
   "metadata": {},
   "outputs": [],
   "source": [
    "bapps = \"~/Documents/Research/Working/mox_bumblereem/\" # KK local-mounted path to /gcratch/bumblereem\n",
    "# bapps = \"/gscratch/bumblereem/\"                      # path on mox.hyak.uw.edu\n",
    "appfol = os.path.join(bapps, \"kearney\", \"bering-Apps/Apps/Bering_with_bio\")\n",
    "\n",
    "ocean   = rc.readparamfile(os.path.join(appfol, \"bering_ocean.yaml\"), tconvert=True)\n",
    "station = rc.readparamfile(os.path.join(appfol, \"bering_spos.yaml\"))\n",
    "bio     = rc.readparamfile(os.path.join(appfol, \"bering_bpar_banas.yaml\"))\n",
    "ice     = rc.readparamfile(os.path.join(appfol, \"bering_ipar.yaml\"))"
   ]
  },
  {
   "cell_type": "markdown",
   "metadata": {},
   "source": [
    "## Modifying parameters\n",
    "\n",
    "### Basic parameters\n",
    "\n",
    "Dictionary values can be accessed by their key (parameter) name."
   ]
  },
  {
   "cell_type": "code",
   "execution_count": 3,
   "metadata": {},
   "outputs": [],
   "source": [
    "# Change tiling from 5-node to 1-node configuration\n",
    "\n",
    "ocean['NtileJ'] = 5"
   ]
  },
  {
   "cell_type": "markdown",
   "metadata": {},
   "source": [
    "### Station locations\n",
    "\n",
    "The station position parameter is a table in the ROMS standard input.  In this toolbox, each station is represented by a 4-element list with the table row values, and the 'POS' value is itself a list of these 4-element lists."
   ]
  },
  {
   "cell_type": "code",
   "execution_count": 4,
   "metadata": {},
   "outputs": [],
   "source": [
    "# Adding a station in Unimak Pass\n",
    "\n",
    "slat = 54.281\n",
    "slon = -165.03   \n",
    "\n",
    "if slon < 0:\n",
    "    slon = slon + 360\n",
    "\n",
    "# Each new station should be added as a 4-element list: \n",
    "# [grid, flag (1=lat/lon, 0=xi/eta), x (lon), y (lat)]\n",
    "\n",
    "station['POS'].append([1, 1, slon, slat])\n",
    "station['NSTATION'] = len(station['POS'])\n",
    "    "
   ]
  },
  {
   "cell_type": "markdown",
   "metadata": {},
   "source": [
    "### Time variables\n",
    "\n",
    "When read in with the tconvert flag (as above), time-related variables are converted to datetime and timedelta objects.  This allows you to set things like run duration and archiving time steps independent of the model time step, and without having to do any math.  The values will be translated to their appropriate ROMS unit when converting to standard input format."
   ]
  },
  {
   "cell_type": "code",
   "execution_count": 5,
   "metadata": {},
   "outputs": [],
   "source": [
    "# Set end date by adjusting NTIMES\n",
    "\n",
    "enddate = datetime(2002,3,1)\n",
    "\n",
    "ocean['NTIMES'] = enddate - ocean['DSTART']\n",
    "\n",
    "# Set archiving time steps and file size\n",
    "\n",
    "ocean['NSTA'] = timedelta(hours=6)\n",
    "ocean['NAVG'] = timedelta(weeks=1)\n",
    "ocean['NHIS'] = timedelta(weeks=1)\n",
    "ocean['NDEFAVG'] = timedelta(weeks=10)\n",
    "ocean['NDEFHIS'] = timedelta(weeks=10)\n"
   ]
  },
  {
   "cell_type": "markdown",
   "metadata": {},
   "source": [
    "## Running a simulation\n",
    "\n",
    "### The basic way\n",
    "\n",
    "This method simply writes the parameters to files, then calls the ROMS executable.  "
   ]
  },
  {
   "cell_type": "code",
   "execution_count": 6,
   "metadata": {},
   "outputs": [],
   "source": [
    "simname = \"example_sim\"\n",
    "\n",
    "# Write bio, station, and ice parameters to file, and adjust filenames accordingly\n",
    "\n",
    "bpar = f\"{simname}_bpar.in\"\n",
    "ipar = f\"{simname}_ipar.in\"\n",
    "spos = f\"{simname}_spos.in\"\n",
    "\n",
    "rc.dict2standardin(bio, compress=False, file=bpar)\n",
    "rc.dict2standardin(ice, compress=False, file=ipar)\n",
    "rc.dict2standardin(station, compress=False, file=spos)\n",
    "\n",
    "ocean['BPARNAM'] = bpar\n",
    "ocean['IPARNAM'] = ipar\n",
    "ocean['SPOSNAM'] = spos\n",
    "\n",
    "# Rename output to reflect the sim.  We can do this manually, or use the setoutfilenames function\n",
    "\n",
    "rc.setoutfilenames(ocean, simname)\n",
    "\n",
    "# Write parameters to .in file\n",
    "\n",
    "standinfile  = f\"{simname}.in\"\n",
    "standoutfile = f\"{simname}.log\"\n",
    "standerrfile = f\"{simname}.err\"\n",
    "\n",
    "rc.dict2standardin(ocean, compress=False, file=standinfile)\n",
    "\n",
    "# Call ROMS executable\n",
    "# The exact syntax here will depend on your machine and whether you are running in serial, with MPI, or with OpenMP.\n",
    "\n",
    "mpicmd = \"mpirun\"\n",
    "romsexec = \"romsM\"\n",
    "\n",
    "romscmd = f\"{mpicmd} {romsexec} {standinfile}\"\n",
    "\n",
    "# Below is the syntax I use to call the ROMS process from a python script.  \n",
    "# Commented out here since exact ROMS setup varies by user and computer.\n",
    "\n",
    "# with open(standoutfile, 'w') as fout, open(standerrfile, 'w') as ferr:\n",
    "#     subprocess.run(romscmd, stdout=fout, stderr=ferr)"
   ]
  },
  {
   "cell_type": "markdown",
   "metadata": {},
   "source": [
    "### The checkpoint way\n",
    "\n",
    "The `runtodate` routine was written to simplify running and restarting a simulation.  An initial call  to `runtodate` sets up a simulation similar to the above demonstration; however, if the run is stopped for any reason prior to completion, a second call using identical syntax will resume the simulation where it left off.  The routine also includes logic to get past simple blowups by temporarily decreasing the model time step."
   ]
  },
  {
   "cell_type": "code",
   "execution_count": 7,
   "metadata": {},
   "outputs": [
    {
     "name": "stdout",
     "output_type": "stream",
     "text": [
      "WARNING!: Cannot find file ./Input/Bering10K_extended_grid.nc\n",
      "WARNING!: Cannot find file ./Input/delta_46_his_00168.nc\n",
      "WARNING!: Cannot find file ./Input/clm_po4.nc\n",
      "WARNING!: Cannot find file ./Input/2001/roms-cfs-bryphys-N30-2001.nc |\n",
      "./Input/2002/roms-cfs-bryphys-N30-2002.nc |\n",
      "./Input/2003/roms-cfs-bryphys-N30-2003.nc |\n",
      "./Input/2004/roms-cfs-bryphys-N30-2004.nc |\n",
      "./Input/2005/roms-cfs-bryphys-N30-2005.nc |\n",
      "./Input/2006/roms-cfs-bryphys-N30-2006.nc\n",
      "WARNING!: Cannot find file ./Input/2001/roms-cfs-brycarbonate-N30-2001.nc |\n",
      "./Input/2002/roms-cfs-brycarbonate-N30-2002.nc |\n",
      "./Input/2003/roms-cfs-brycarbonate-N30-2003.nc |\n",
      "./Input/2004/roms-cfs-brycarbonate-N30-2004.nc |\n",
      "./Input/2005/roms-cfs-brycarbonate-N30-2005.nc |\n",
      "./Input/2006/roms-cfs-brycarbonate-N30-2006.nc\n",
      "WARNING!: Cannot find file ./Input/roms-brybio-N30.nc\n",
      "WARNING!: Cannot find file /gscratch/bumblereem/bering10k/input/generic/tides_OTBS.nc\n",
      "WARNING!: Cannot find file ./Input/2002/roms-cfs-atmos-Pair-2002.nc |\n",
      "./Input/2003/roms-cfs-atmos-Pair-2003.nc |\n",
      "./Input/2004/roms-cfs-atmos-Pair-2004.nc |\n",
      "./Input/2005/roms-cfs-atmos-Pair-2005.nc |\n",
      "./Input/2006/roms-cfs-atmos-Pair-2006.nc\n",
      "WARNING!: Cannot find file ./Input/2002/roms-cfs-atmos-Qair-2002.nc |\n",
      "./Input/2003/roms-cfs-atmos-Qair-2003.nc |\n",
      "./Input/2004/roms-cfs-atmos-Qair-2004.nc |\n",
      "./Input/2005/roms-cfs-atmos-Qair-2005.nc |\n",
      "./Input/2006/roms-cfs-atmos-Qair-2006.nc\n",
      "WARNING!: Cannot find file ./Input/2002/roms-cfs-atmos-Tair-2002.nc |\n",
      "./Input/2003/roms-cfs-atmos-Tair-2003.nc |\n",
      "./Input/2004/roms-cfs-atmos-Tair-2004.nc |\n",
      "./Input/2005/roms-cfs-atmos-Tair-2005.nc |\n",
      "./Input/2006/roms-cfs-atmos-Tair-2006.nc\n",
      "WARNING!: Cannot find file ./Input/2002/roms-cfs-atmos-Uwind-2002.nc |\n",
      "./Input/2003/roms-cfs-atmos-Uwind-2003.nc |\n",
      "./Input/2004/roms-cfs-atmos-Uwind-2004.nc |\n",
      "./Input/2005/roms-cfs-atmos-Uwind-2005.nc |\n",
      "./Input/2006/roms-cfs-atmos-Uwind-2006.nc\n",
      "WARNING!: Cannot find file ./Input/2002/roms-cfs-atmos-Vwind-2002.nc |\n",
      "./Input/2003/roms-cfs-atmos-Vwind-2003.nc |\n",
      "./Input/2004/roms-cfs-atmos-Vwind-2004.nc |\n",
      "./Input/2005/roms-cfs-atmos-Vwind-2005.nc |\n",
      "./Input/2006/roms-cfs-atmos-Vwind-2006.nc\n",
      "WARNING!: Cannot find file ./Input/2002/roms-cfs-atmos-lwrad-2002.nc |\n",
      "./Input/2003/roms-cfs-atmos-lwrad-2003.nc |\n",
      "./Input/2004/roms-cfs-atmos-lwrad-2004.nc |\n",
      "./Input/2005/roms-cfs-atmos-lwrad-2005.nc |\n",
      "./Input/2006/roms-cfs-atmos-lwrad-2006.nc\n",
      "WARNING!: Cannot find file ./Input/2002/roms-cfs-atmos-rain-2002.nc |\n",
      "./Input/2003/roms-cfs-atmos-rain-2003.nc |\n",
      "./Input/2004/roms-cfs-atmos-rain-2004.nc |\n",
      "./Input/2005/roms-cfs-atmos-rain-2005.nc |\n",
      "./Input/2006/roms-cfs-atmos-rain-2006.nc\n",
      "WARNING!: Cannot find file ./Input/2002/roms-cfs-atmos-swrad-2002.nc |\n",
      "./Input/2003/roms-cfs-atmos-swrad-2003.nc |\n",
      "./Input/2004/roms-cfs-atmos-swrad-2004.nc |\n",
      "./Input/2005/roms-cfs-atmos-swrad-2005.nc |\n",
      "./Input/2006/roms-cfs-atmos-swrad-2006.nc\n",
      "WARNING!: Cannot find file ./Input/2001/runoff_kearney_2001.nc |\n",
      "./Input/2002/runoff_kearney_2002.nc |\n",
      "./Input/2003/runoff_kearney_2003.nc |\n",
      "./Input/2004/runoff_kearney_2004.nc |\n",
      "./Input/2005/runoff_kearney_2005.nc |\n",
      "./Input/2006/runoff_kearney_2006.nc\n",
      "WARNING!: Cannot find file ./Input/atmo_co2_2002-2020.nc\n",
      "WARNING!: Cannot find file ./Input/solublefe_test.nc\n",
      "WARNING!: Cannot find file ./Input/ironsed_test.nc\n",
      "WARNING!: Cannot find file ./Input/mineralfe_test.nc\n",
      "WARNING!: Cannot find file /gscratch/bumblereem/bering10k/input/generic/sss.clim.nc\n"
     ]
    },
    {
     "ename": "SystemExit",
     "evalue": "",
     "output_type": "error",
     "traceback": [
      "An exception has occurred, use %tb to see the full traceback.\n",
      "\u001b[0;31mSystemExit\u001b[0m\n"
     ]
    },
    {
     "name": "stderr",
     "output_type": "stream",
     "text": [
      "/Users/kakearney/anaconda3/lib/python3.6/site-packages/IPython/core/interactiveshell.py:2918: UserWarning: To exit: use 'exit', 'quit', or Ctrl-D.\n",
      "  warn(\"To exit: use 'exit', 'quit', or Ctrl-D.\", stacklevel=1)\n"
     ]
    }
   ],
   "source": [
    "## With this method, we still need to set up the \"extra\" input files manually.\n",
    "\n",
    "simname = \"example_sim\"\n",
    "simdir = \".\"\n",
    "\n",
    "# You can place them anywhere, but I like to keep them in the same input folder \n",
    "# where the ocean.in files will go\n",
    "\n",
    "fol = rc.simfolders(simdir, create=True)\n",
    "\n",
    "bpar = os.path.join(fol['in'], f\"{simname}_bpar.in\")\n",
    "ipar = os.path.join(fol['in'], f\"{simname}_ipar.in\")\n",
    "spos = os.path.join(fol['in'], f\"{simname}_spos.in\")\n",
    "\n",
    "rc.dict2standardin(bio, compress=False, file=bpar)\n",
    "rc.dict2standardin(ice, compress=False, file=ipar)\n",
    "rc.dict2standardin(station, compress=False, file=spos)\n",
    "\n",
    "ocean['BPARNAM'] = bpar\n",
    "ocean['IPARNAM'] = ipar\n",
    "ocean['SPOSNAM'] = spos\n",
    "\n",
    "# Call runtodate routine\n",
    "\n",
    "romscmd = f\"{mpicmd} {romsexec}\" # ROMS command shouldn't include standard input file\n",
    "\n",
    "rc.runtodate(ocean, simdir, simname, enddate=enddate, dryrunflag=True)"
   ]
  },
  {
   "cell_type": "code",
   "execution_count": null,
   "metadata": {},
   "outputs": [],
   "source": []
  },
  {
   "cell_type": "code",
   "execution_count": 9,
   "metadata": {},
   "outputs": [
    {
     "data": {
      "text/plain": [
       "['mpirun', './romsM', 'another']"
      ]
     },
     "execution_count": 9,
     "metadata": {},
     "output_type": "execute_result"
    }
   ],
   "source": [
    "test = [\"mpirun\"]\n",
    "test.extend([\"./romsM\"])\n",
    "\n",
    "test + [\"another\"]"
   ]
  },
  {
   "cell_type": "code",
   "execution_count": 16,
   "metadata": {},
   "outputs": [
    {
     "data": {
      "text/plain": [
       "['a', 'c']"
      ]
     },
     "execution_count": 16,
     "metadata": {},
     "output_type": "execute_result"
    }
   ],
   "source": [
    "test = [\"a\",\"b\",\"c\"]\n",
    "[x for x in test if x != \"b\"]"
   ]
  },
  {
   "cell_type": "code",
   "execution_count": null,
   "metadata": {},
   "outputs": [],
   "source": []
  }
 ],
 "metadata": {
  "kernelspec": {
   "display_name": "Python 3",
   "language": "python",
   "name": "python3"
  },
  "language_info": {
   "codemirror_mode": {
    "name": "ipython",
    "version": 3
   },
   "file_extension": ".py",
   "mimetype": "text/x-python",
   "name": "python",
   "nbconvert_exporter": "python",
   "pygments_lexer": "ipython3",
   "version": "3.6.10"
  }
 },
 "nbformat": 4,
 "nbformat_minor": 2
}
